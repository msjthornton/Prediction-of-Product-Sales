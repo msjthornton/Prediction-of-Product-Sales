{
  "nbformat": 4,
  "nbformat_minor": 0,
  "metadata": {
    "colab": {
      "provenance": [],
      "authorship_tag": "ABX9TyMgfojx0K/4HQvhoqZiWxEi",
      "include_colab_link": true
    },
    "kernelspec": {
      "name": "python3",
      "display_name": "Python 3"
    },
    "language_info": {
      "name": "python"
    }
  },
  "cells": [
    {
      "cell_type": "markdown",
      "metadata": {
        "id": "view-in-github",
        "colab_type": "text"
      },
      "source": [
        "<a href=\"https://colab.research.google.com/github/msjthornton/Prediction-of-Product-Sales/blob/main/Prediction_of_Product_Sales.ipynb\" target=\"_parent\"><img src=\"https://colab.research.google.com/assets/colab-badge.svg\" alt=\"Open In Colab\"/></a>"
      ]
    },
    {
      "cell_type": "markdown",
      "source": [
        "#**Prediction of Product Sales**"
      ],
      "metadata": {
        "id": "C-07Aeuyt3SB"
      }
    },
    {
      "cell_type": "markdown",
      "source": [
        "Juanita Thornton"
      ],
      "metadata": {
        "id": "8kjbI6DHuBW4"
      }
    },
    {
      "cell_type": "markdown",
      "source": [
        "##Project Overview"
      ],
      "metadata": {
        "id": "zxPn4gn3usj7"
      }
    },
    {
      "cell_type": "markdown",
      "source": [
        "##Load and Inspect Data"
      ],
      "metadata": {
        "id": "iSttgoIIuvvz"
      }
    },
    {
      "cell_type": "code",
      "source": [],
      "metadata": {
        "id": "MBhELXWQvIIY"
      },
      "execution_count": null,
      "outputs": []
    },
    {
      "cell_type": "markdown",
      "source": [
        "##Clean Data"
      ],
      "metadata": {
        "id": "SmR6ercNuyux"
      }
    },
    {
      "cell_type": "code",
      "source": [],
      "metadata": {
        "id": "p-BBhbbZvJAl"
      },
      "execution_count": null,
      "outputs": []
    },
    {
      "cell_type": "markdown",
      "source": [
        "##Exploratory Data Analysis"
      ],
      "metadata": {
        "id": "T5veUXkUu02G"
      }
    },
    {
      "cell_type": "code",
      "source": [],
      "metadata": {
        "id": "WDIh_GervJpj"
      },
      "execution_count": null,
      "outputs": []
    },
    {
      "cell_type": "markdown",
      "source": [
        "## Explanatory Data Analysis"
      ],
      "metadata": {
        "id": "YhZbZ-auu9NP"
      }
    },
    {
      "cell_type": "code",
      "source": [],
      "metadata": {
        "id": "xGtktIu0vLBT"
      },
      "execution_count": null,
      "outputs": []
    }
  ]
}